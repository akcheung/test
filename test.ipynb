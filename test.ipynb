{
 "cells": [
  {
   "cell_type": "markdown",
   "metadata": {},
   "source": [
    "## An end-to-end pipeline for the analysis of HCP diffusion MRI data using Dipy"
   ]
  },
  {
   "cell_type": "code",
   "execution_count": 1,
   "metadata": {
    "collapsed": true
   },
   "outputs": [],
   "source": [
    "import numpy as np\n",
    "import matplotlib.pyplot as plt\n",
    "import os.path as op\n",
    "%matplotlib inline"
   ]
  },
  {
   "cell_type": "markdown",
   "metadata": {},
   "source": [
    "### Get the data from AWS S3\n",
    "\n",
    "We assume that you have a file '.aws/credentials', that includes a section: \n",
    "\n",
    "    [hcp]\n",
    "    AWS_ACCESS_KEY_ID=XXXXXXXXXXXXXXXX\n",
    "    AWS_SECRET_ACCESS_KEY=XXXXXXXXXXXXXXXX\n",
    "with the credentials you got [from HCP](https://wiki.humanconnectome.org/display/PublicData/How+To+Connect+to+Connectome+Data+via+AWS)"
   ]
  },
  {
   "cell_type": "code",
   "execution_count": 2,
   "metadata": {
    "collapsed": true
   },
   "outputs": [],
   "source": [
    "data_files = {'./bvals':'HCP/994273/T1w/Diffusion/bvals', \n",
    "              './bvecs':'HCP/994273/T1w/Diffusion/bvecs', \n",
    "              './data.nii.gz':'HCP/994273/T1w/Diffusion/data.nii.gz'}"
   ]
  },
  {
   "cell_type": "code",
   "execution_count": 3,
   "metadata": {
    "collapsed": true
   },
   "outputs": [],
   "source": [
    "import botocore.session\n",
    "import boto3\n",
    "boto3.setup_default_session(profile_name='hcp')\n",
    "s3 = boto3.resource('s3')\n",
    "bucket = s3.Bucket('hcp-openaccess')"
   ]
  },
  {
   "cell_type": "code",
   "execution_count": 4,
   "metadata": {
    "collapsed": false
   },
   "outputs": [],
   "source": [
    "for k in data_files.keys():\n",
    "    if not op.exists(k):\n",
    "        bucket.download_file(data_files[k], k)\n"
   ]
  },
  {
   "cell_type": "code",
   "execution_count": 5,
   "metadata": {
    "collapsed": false
   },
   "outputs": [],
   "source": [
    "import dipy.core.gradients as dpg\n",
    "import nibabel as nib"
   ]
  },
  {
   "cell_type": "code",
   "execution_count": 6,
   "metadata": {
    "collapsed": false
   },
   "outputs": [],
   "source": [
    "# Read in the gradient table, setting the threshold to 10, so that low values are considered as 0:\n",
    "gtab = dpg.gradient_table('./bvals', './bvecs', b0_threshold=10)"
   ]
  },
  {
   "cell_type": "code",
   "execution_count": 7,
   "metadata": {
    "collapsed": false
   },
   "outputs": [],
   "source": [
    "img = nib.load('./data.nii.gz')"
   ]
  },
  {
   "cell_type": "code",
   "execution_count": 8,
   "metadata": {
    "collapsed": true
   },
   "outputs": [],
   "source": [
    "data = img.get_data()"
   ]
  },
  {
   "cell_type": "markdown",
   "metadata": {},
   "source": [
    "### Brain extraction (median Otsu)\n",
    "\n",
    "See (example and explanations)"
   ]
  },
  {
   "cell_type": "code",
   "execution_count": 9,
   "metadata": {
    "collapsed": true
   },
   "outputs": [],
   "source": [
    "# We look at the average non diffusion-weighted as data for brain extraction\n",
    "mean_b0 = np.mean(data[..., gtab.b0s_mask], -1)"
   ]
  },
  {
   "cell_type": "code",
   "execution_count": 10,
   "metadata": {
    "collapsed": false
   },
   "outputs": [],
   "source": [
    "if not op.exists('./mask.nii.gz'):\n",
    "    from dipy.segment.mask import median_otsu\n",
    "    _, mask = median_otsu(mean_b0, 4, 2, False, vol_idx=np.where(gtab.b0s_mask), dilate=1)\n",
    "    nib.save(nib.Nifti1Image(mask.astype(int), img.affine), 'mask.nii.gz')\n",
    "else: \n",
    "    mask = nib.load('mask.nii.gz').get_data()"
   ]
  },
  {
   "cell_type": "markdown",
   "metadata": {},
   "source": [
    "### Denoising (NLMEANS)\n",
    "\n",
    "See [example and explanations](http://nipy.org/dipy/examples_built/denoise_nlmeans.html#example-denoise-nlmeans)\n"
   ]
  },
  {
   "cell_type": "code",
   "execution_count": 14,
   "metadata": {
    "collapsed": true
   },
   "outputs": [],
   "source": [
    "if not op.exists('./denoised_data.nii.gz'):\n",
    "    from dipy.denoise import nlmeans\n",
    "    from dipy.denoise.noise_estimate import estimate_sigma\n",
    "    sigma = estimate_sigma(data)\n",
    "    denoised_data = nlmeans.nlmeans(data, sigma=sigma, mask=mask)\n",
    "    nib.save(nib.Nifti1Image(denoised_data, img.affine), 'denoised_data.nii.gz')\n",
    "else:\n",
    "    denoised_data = nib.load('denoised_data.nii.gz').get_data()"
   ]
  },
  {
   "cell_type": "markdown",
   "metadata": {},
   "source": [
    "###  Registration to a template"
   ]
  },
  {
   "cell_type": "code",
   "execution_count": 15,
   "metadata": {
    "collapsed": true
   },
   "outputs": [],
   "source": [
    "from dipy.data import read_mni_template"
   ]
  },
  {
   "cell_type": "code",
   "execution_count": 16,
   "metadata": {
    "collapsed": false
   },
   "outputs": [
    {
     "name": "stdout",
     "output_type": "stream",
     "text": [
      "Data size is approximately 35MB\n",
      "Dataset is already in place. If you want to fetch it again please first remove the folder /Users/arokem/.dipy/mni_template \n"
     ]
    }
   ],
   "source": [
    "MNI_T2 = read_mni_template()"
   ]
  },
  {
   "cell_type": "code",
   "execution_count": 17,
   "metadata": {
    "collapsed": true
   },
   "outputs": [],
   "source": [
    "MNI_T2_data = MNI_T2.get_data()"
   ]
  },
  {
   "cell_type": "code",
   "execution_count": 18,
   "metadata": {
    "collapsed": true
   },
   "outputs": [],
   "source": [
    "MNI_T2_affine = MNI_T2.get_affine()"
   ]
  },
  {
   "cell_type": "code",
   "execution_count": 19,
   "metadata": {
    "collapsed": true
   },
   "outputs": [],
   "source": [
    "from dipy.align.metrics import CCMetric\n",
    "from dipy.align.imwarp import SymmetricDiffeomorphicRegistration"
   ]
  },
  {
   "cell_type": "code",
   "execution_count": 22,
   "metadata": {
    "collapsed": false
   },
   "outputs": [
    {
     "name": "stdout",
     "output_type": "stream",
     "text": [
      "Creating scale space from the moving image. Levels: 3. Sigma factor: 0.200000.\n",
      "Creating scale space from the static image. Levels: 3. Sigma factor: 0.200000.\n",
      "Optimizing level 2\n",
      "Optimizing level 1\n",
      "Optimizing level 0\n"
     ]
    }
   ],
   "source": [
    "use_metric = CCMetric(3, sigma_diff=2.0)\n",
    "\n",
    "sdr = SymmetricDiffeomorphicRegistration(use_metric, [10, 10, 5],\n",
    "                                         step_length=0.25)\n",
    "\n",
    "mapping = sdr.optimize(MNI_T2_data, mean_b0,\n",
    "                       static_grid2world=img.affine,\n",
    "                       moving_grid2world=MNI_T2_affine,\n",
    "                       prealign=None)\n",
    "\n",
    "xformed_b0 = mapping.transform(mean_b0)"
   ]
  },
  {
   "cell_type": "markdown",
   "metadata": {},
   "source": [
    "### Modeling (DTI)\n",
    "\n",
    "See [example and explanations](http://nipy.org/dipy/examples_built/reconst_dti.html#example-reconst-dti)"
   ]
  },
  {
   "cell_type": "code",
   "execution_count": 23,
   "metadata": {
    "collapsed": true
   },
   "outputs": [],
   "source": [
    "import dipy.reconst.dti as dti\n",
    "\n",
    "ten_model = dti.TensorModel(gtab)\n",
    "ten_fit = ten_model.fit(data, mask=mask)\n",
    "\n",
    "nib.save(nib.Nifti1Image(ten_fit.fa, img.affine), 'dti_fa.nii.gz')\n",
    "nib.save(nib.Nifti1Image(ten_fit.fa, img.affine), 'dti_md.nii.gz')\n"
   ]
  },
  {
   "cell_type": "markdown",
   "metadata": {},
   "source": [
    "### Segmentation (FA)"
   ]
  },
  {
   "cell_type": "markdown",
   "metadata": {},
   "source": [
    "### Modeling (CSD)"
   ]
  },
  {
   "cell_type": "markdown",
   "metadata": {},
   "source": [
    "### Tracking (Probabilistic/Deterministic)"
   ]
  },
  {
   "cell_type": "markdown",
   "metadata": {},
   "source": []
  }
 ],
 "metadata": {
  "kernelspec": {
   "display_name": "Python 2",
   "language": "python",
   "name": "python2"
  },
  "language_info": {
   "codemirror_mode": {
    "name": "ipython",
    "version": 2
   },
   "file_extension": ".py",
   "mimetype": "text/x-python",
   "name": "python",
   "nbconvert_exporter": "python",
   "pygments_lexer": "ipython2",
   "version": "2.7.11"
  }
 },
 "nbformat": 4,
 "nbformat_minor": 0
}
